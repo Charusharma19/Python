{
  "nbformat": 4,
  "nbformat_minor": 0,
  "metadata": {
    "colab": {
      "provenance": [],
      "authorship_tag": "ABX9TyN2f7bzwpt07XYnl3s/KDMy",
      "include_colab_link": true
    },
    "kernelspec": {
      "name": "python3",
      "display_name": "Python 3"
    },
    "language_info": {
      "name": "python"
    }
  },
  "cells": [
    {
      "cell_type": "markdown",
      "metadata": {
        "id": "view-in-github",
        "colab_type": "text"
      },
      "source": [
        "<a href=\"https://colab.research.google.com/github/Charusharma19/Python/blob/main/menuhw.ipynb\" target=\"_parent\"><img src=\"https://colab.research.google.com/assets/colab-badge.svg\" alt=\"Open In Colab\"/></a>"
      ]
    },
    {
      "cell_type": "code",
      "execution_count": 6,
      "metadata": {
        "colab": {
          "base_uri": "https://localhost:8080/"
        },
        "id": "i3Zxm9YL9iE6",
        "outputId": "9e851a77-c74b-458a-8f22-05b4bd78b611"
      },
      "outputs": [
        {
          "output_type": "stream",
          "name": "stdout",
          "text": [
            "BIO-DATA\n",
            "Name :  charu\n",
            "Age :  20\n",
            "Mobile No :  897456107\n",
            "Dob :  11july2025\n",
            "Education:  Bachelor of engineering\n",
            "Marital Status:  Single\n"
          ]
        }
      ],
      "source": [
        "\n",
        "print(\"BIO-DATA\")\n",
        "name=\"charu\"\n",
        "age=20\n",
        "mobile=897456107\n",
        "Email=\"charu2@gmail.com\"\n",
        "dob=\"11july2025\"\n",
        "education=\"Bachelor of engineering\"\n",
        "marital_status=\"Single\"\n",
        "Address=\"Sangrur\"\n",
        "print(\"Name : \",name)\n",
        "print(\"Age : \",age)\n",
        "print(\"Mobile No : \",mobile)\n",
        "print(\"Dob : \",dob)\n",
        "print(\"Education: \",education)\n",
        "print(\"Marital Status: \",marital_status)\n"
      ]
    },
    {
      "cell_type": "code",
      "source": [
        "print(\"MENU\")\n",
        "item1=\"Roti\"\n",
        "price_of_item1=7\n",
        "item2=\"Dal\"\n",
        "price_of_item2=150\n",
        "item3=\"Pizza\"\n",
        "price_of_item3=450\n",
        "item4=\"Noddles\"\n",
        "price_of_item4=100\n",
        "total_bill=(\"Total :\", price_of_item1+price_of_item2+price_of_item3+price_of_item4)\n",
        "print(\"item1:\",price_of_item1)\n",
        "print(\"item2:\",price_of_item2)\n",
        "print(\"item3:\",price_of_item3)\n",
        "print(\"item4:\",price_of_item4)\n",
        "print(total_bill)"
      ],
      "metadata": {
        "colab": {
          "base_uri": "https://localhost:8080/"
        },
        "id": "YaiupNlJBmHD",
        "outputId": "f00a3510-cada-4c5a-f078-b71f960d9f84"
      },
      "execution_count": 13,
      "outputs": [
        {
          "output_type": "stream",
          "name": "stdout",
          "text": [
            "MENU\n",
            "item1: 7\n",
            "item2: 150\n",
            "item3: 450\n",
            "item4: 100\n",
            "('Total :', 707)\n"
          ]
        }
      ]
    }
  ]
}