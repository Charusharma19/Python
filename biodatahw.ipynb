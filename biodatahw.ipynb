{
  "nbformat": 4,
  "nbformat_minor": 0,
  "metadata": {
    "colab": {
      "provenance": [],
      "authorship_tag": "ABX9TyOH3eRL5CCNQwQ/HmIkT5hj",
      "include_colab_link": true
    },
    "kernelspec": {
      "name": "python3",
      "display_name": "Python 3"
    },
    "language_info": {
      "name": "python"
    }
  },
  "cells": [
    {
      "cell_type": "markdown",
      "metadata": {
        "id": "view-in-github",
        "colab_type": "text"
      },
      "source": [
        "<a href=\"https://colab.research.google.com/github/Charusharma19/Python/blob/main/biodatahw.ipynb\" target=\"_parent\"><img src=\"https://colab.research.google.com/assets/colab-badge.svg\" alt=\"Open In Colab\"/></a>"
      ]
    },
    {
      "cell_type": "code",
      "execution_count": 6,
      "metadata": {
        "colab": {
          "base_uri": "https://localhost:8080/"
        },
        "id": "i3Zxm9YL9iE6",
        "outputId": "9e851a77-c74b-458a-8f22-05b4bd78b611"
      },
      "outputs": [
        {
          "output_type": "stream",
          "name": "stdout",
          "text": [
            "BIO-DATA\n",
            "Name :  charu\n",
            "Age :  20\n",
            "Mobile No :  897456107\n",
            "Dob :  11july2025\n",
            "Education:  Bachelor of engineering\n",
            "Marital Status:  Single\n"
          ]
        }
      ],
      "source": [
        "\n",
        "print(\"BIO-DATA\")\n",
        "name=\"charu\"\n",
        "age=20\n",
        "mobile=897456107\n",
        "Email=\"charu2@gmail.com\"\n",
        "dob=\"11july2025\"\n",
        "education=\"Bachelor of engineering\"\n",
        "marital_status=\"Single\"\n",
        "Address=\"Sangrur\"\n",
        "print(\"Name : \",name)\n",
        "print(\"Age : \",age)\n",
        "print(\"Mobile No : \",mobile)\n",
        "print(\"Dob : \",dob)\n",
        "print(\"Education: \",education)\n",
        "print(\"Marital Status: \",marital_status)\n"
      ]
    }
  ]
}